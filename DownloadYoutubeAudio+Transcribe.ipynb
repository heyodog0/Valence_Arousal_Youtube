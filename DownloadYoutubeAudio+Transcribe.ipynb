{
 "cells": [
  {
   "cell_type": "code",
   "execution_count": null,
   "id": "d023c898-5233-45c1-837d-4bec6af9ba56",
   "metadata": {
    "tags": []
   },
   "outputs": [],
   "source": [
    "import yt_dlp\n",
    "\n",
    "with open('insert a textfile w/ Youtube URLs', 'r') as file:\n",
    "    URLS = file.read().splitlines()\n",
    "\n",
    "ydl_opts = {'format': 'm4a/bestaudio/best','postprocessors': \n",
    "            [{'key': 'FFmpegExtractAudio','preferredcodec': 'm4a',}]}\n",
    "\n",
    "for url in URLS:\n",
    "    with yt_dlp.YoutubeDL(ydl_opts) as ydl:\n",
    "        error_code = ydl.download([url])\n"
   ]
  },
  {
   "cell_type": "code",
   "execution_count": null,
   "id": "d0a2edc3-149c-45bb-890e-78f0ccd47cb3",
   "metadata": {},
   "outputs": [],
   "source": [
    "import os\n",
    "import whisper\n",
    "model = whisper.load_model(\"base\")\n",
    "os.chdir(\"\")\n",
    "\n",
    "cwd = os.getcwd()\n",
    "# print(cwd)\n",
    "\n",
    "files = os.listdir(cwd)\n",
    "\n",
    "x = []\n",
    "for file in files:\n",
    "    x.append(os.path.join(cwd, file))\n",
    "    \n",
    "for filepathnames in x:\n",
    "    print(filepathnames)\n",
    "    if filepathnames.endswith((\".m4a\")):\n",
    "        result = model.transcribe(filepathnames, fp16 = False)\n",
    "        with open(str(filepathnames), \"w\") as f:\n",
    "            f.write(result[\"text\"])\n",
    "            if len(os.listdir(cwd)) > 21:\n",
    "                break\n",
    "\n"
   ]
  }
 ],
 "metadata": {
  "kernelspec": {
   "display_name": "Python 3 (ipykernel)",
   "language": "python",
   "name": "python3"
  },
  "language_info": {
   "codemirror_mode": {
    "name": "ipython",
    "version": 3
   },
   "file_extension": ".py",
   "mimetype": "text/x-python",
   "name": "python",
   "nbconvert_exporter": "python",
   "pygments_lexer": "ipython3",
   "version": "3.11.4"
  }
 },
 "nbformat": 4,
 "nbformat_minor": 5
}
