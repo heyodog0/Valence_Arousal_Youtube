{
 "cells": [
  {
   "cell_type": "code",
   "execution_count": 1,
   "id": "f59fb26d-b5e1-4a68-9e0f-4ae5fb2ff511",
   "metadata": {
    "tags": []
   },
   "outputs": [],
   "source": [
    "from transformers import AutoTokenizer, AutoModelForSequenceClassification\n",
    "import torch"
   ]
  },
  {
   "cell_type": "code",
   "execution_count": 2,
   "id": "1fd1a03c-329d-4693-8bf1-d7c3e3be62a6",
   "metadata": {
    "tags": []
   },
   "outputs": [],
   "source": [
    "model = AutoModelForSequenceClassification.from_pretrained(\"/Users/heyodogo/Documents/cascoglab/model\")\n",
    "tokenizer = AutoTokenizer.from_pretrained(\"bert-base-uncased\")"
   ]
  },
  {
   "cell_type": "code",
   "execution_count": 16,
   "id": "997a151e-f0e3-4986-a21a-0f72487b5afe",
   "metadata": {
    "tags": []
   },
   "outputs": [
    {
     "name": "stdout",
     "output_type": "stream",
     "text": [
      "Predicted values for Valence: 2.0263073444366455\n",
      "Predicted values for Arousal: 4.062441349029541\n"
     ]
    }
   ],
   "source": [
    "new_text = \"\"\n",
    "\n",
    "model.eval()  \n",
    "inputs = tokenizer(new_text, padding=\"max_length\", truncation=True, max_length=512, return_tensors=\"pt\")\n",
    "device = torch.device(\"cuda\" if torch.cuda.is_available() else \"cpu\")\n",
    "inputs = {k: v.to(device) for k, v in inputs.items()}\n",
    "with torch.no_grad():  \n",
    "    outputs = model(**inputs)\n",
    "\n",
    "predicted_values = outputs.logits.squeeze() \n",
    "print(\"Predicted values for Valence:\", predicted_values.tolist()[0]) \n",
    "print(\"Predicted values for Arousal:\", predicted_values.tolist()[1]) "
   ]
  },
  {
   "cell_type": "code",
   "execution_count": null,
   "id": "51105813-5f3d-4955-811a-7ad82c633b36",
   "metadata": {},
   "outputs": [],
   "source": []
  }
 ],
 "metadata": {
  "kernelspec": {
   "display_name": "class-kernel",
   "language": "python",
   "name": "class-kernel"
  },
  "language_info": {
   "codemirror_mode": {
    "name": "ipython",
    "version": 3
   },
   "file_extension": ".py",
   "mimetype": "text/x-python",
   "name": "python",
   "nbconvert_exporter": "python",
   "pygments_lexer": "ipython3",
   "version": "3.11.4"
  },
  "varInspector": {
   "cols": {
    "lenName": 16,
    "lenType": 16,
    "lenVar": 40
   },
   "kernels_config": {
    "python": {
     "delete_cmd_postfix": "",
     "delete_cmd_prefix": "del ",
     "library": "var_list.py",
     "varRefreshCmd": "print(var_dic_list())"
    },
    "r": {
     "delete_cmd_postfix": ") ",
     "delete_cmd_prefix": "rm(",
     "library": "var_list.r",
     "varRefreshCmd": "cat(var_dic_list()) "
    }
   },
   "types_to_exclude": [
    "module",
    "function",
    "builtin_function_or_method",
    "instance",
    "_Feature"
   ],
   "window_display": false
  }
 },
 "nbformat": 4,
 "nbformat_minor": 5
}
